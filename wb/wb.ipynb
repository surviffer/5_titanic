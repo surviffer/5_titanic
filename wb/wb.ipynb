{
 "cells": [
  {
   "cell_type": "code",
   "execution_count": null,
   "metadata": {},
   "outputs": [],
   "source": [
    "import wandb\n",
    "wandb.login(key=\"f2767fc15473f1cf2af4031370513b047f8df407\")\n",
    "CONFIG = dict(_wandb_kernel = 'wb_1')\n",
    "title = \"Distribution of Numerical features\"\n"
   ]
  }
 ],
 "metadata": {
  "kernelspec": {
   "display_name": "Python 3.9.13 ('tf')",
   "language": "python",
   "name": "python3"
  },
  "language_info": {
   "name": "python",
   "version": "3.9.13"
  },
  "orig_nbformat": 4,
  "vscode": {
   "interpreter": {
    "hash": "240da987ba047c9803e46cacde1e802e961566c556b17fbabdafb961a522a0f2"
   }
  }
 },
 "nbformat": 4,
 "nbformat_minor": 2
}
